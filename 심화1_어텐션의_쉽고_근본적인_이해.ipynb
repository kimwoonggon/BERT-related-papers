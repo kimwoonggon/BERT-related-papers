{
  "nbformat": 4,
  "nbformat_minor": 0,
  "metadata": {
    "colab": {
      "name": "심화1_어텐션의_쉽고_근본적인_이해.ipynb",
      "provenance": [],
      "authorship_tag": "ABX9TyPPASvYy1zUf9Q1nQXtbK58",
      "include_colab_link": true
    },
    "kernelspec": {
      "name": "python3",
      "display_name": "Python 3"
    }
  },
  "cells": [
    {
      "cell_type": "markdown",
      "metadata": {
        "id": "view-in-github",
        "colab_type": "text"
      },
      "source": [
        "<a href=\"https://colab.research.google.com/github/kimwoonggon/BERT-related-papers/blob/master/%EC%8B%AC%ED%99%941_%EC%96%B4%ED%85%90%EC%85%98%EC%9D%98_%EC%89%BD%EA%B3%A0_%EA%B7%BC%EB%B3%B8%EC%A0%81%EC%9D%B8_%EC%9D%B4%ED%95%B4.ipynb\" target=\"_parent\"><img src=\"https://colab.research.google.com/assets/colab-badge.svg\" alt=\"Open In Colab\"/></a>"
      ]
    },
    {
      "cell_type": "markdown",
      "metadata": {
        "id": "MpoaFBhgoPYP",
        "colab_type": "text"
      },
      "source": [
        "이번 시간에는 **어텐션(Attention)의 근본적인 이해**를 해보도록 하겠습니다.  \n",
        "어텐션은 단어(**It**)와 문장(**The** **animal** **didn't** **cross** **the** **street** **because** **it was too tired**) 내의 단어 각각과의  \n",
        "닮은 정도를 나타내는 것입니다.  \n",
        "![Imgur](https://i.imgur.com/x1GYPP0.png)  \n",
        "  출처 : http://jalammar.github.io/illustrated-transformer/\n",
        "  \n",
        "  그림을 보면서 감을 잡아보도록 하겠습니다.  \n",
        "**The animal didn't cross the street because it was too tired (그 동물은 길을 건너지 않았다. 왜냐하면 It(그 동물)은 너무 지쳤기 때문이다.)**  \n",
        "그림에서는 실선의 진한 정도로 It과 앞 문장안의 단어들간의 관계를 표현하고 있습니다.  \n",
        "**It(동물)**은 사실 **앞 문장**에서 **The animal**이기 때문에, **The animal**과의 관계가 가장 진한 실선으로 크게 나타납니다. 그렇다고 해서 다른 단어들간의 관계 또한 아예 없는 것도 아닙니다. 문장 속에서 단어를, 다른 문장 내부의 단어들과의 관계의 정도를 나타내는 방식을 어텐션이라고 합니다.\n",
        "\n",
        "\n",
        "같은 문장과 같은 문장의 어텐션을 **Self Attention**이라고 합니다.  \n",
        "**트랜스포머나, 버트 모형**에서는 셀프 어텐션을 사용해서 **단어와 문장간의 관계**를 즉, **닮은 정도**를 딥-러닝을 통해 학습하게 됩니다.\n"
      ]
    },
    {
      "cell_type": "markdown",
      "metadata": {
        "id": "dzZXIzL9wwpK",
        "colab_type": "text"
      },
      "source": [
        "버트나 트랜스포머를 직접 구현하면서 배우는 어텐션은 처음에 구현하기에 난도가 높은 편이므로, 간단하게 word2vec을 약간 개선한 glove를 활용하여 직접 어텐션을 구현해보고, 그림으로 나타내보도록 하겠습니다."
      ]
    },
    {
      "cell_type": "markdown",
      "metadata": {
        "id": "ns9G6cizxrAf",
        "colab_type": "text"
      },
      "source": [
        "분석에 필요한 모듈을 임포트합니다."
      ]
    },
    {
      "cell_type": "code",
      "metadata": {
        "id": "dzghZsxSRr9J",
        "colab_type": "code",
        "colab": {}
      },
      "source": [
        "import numpy as np\n",
        "import pandas as pd\n",
        "from tqdm import tqdm\n",
        "\n",
        "import matplotlib.pyplot as plt\n",
        "import gensim\n",
        "import os, requests, shutil\n",
        "\n",
        "import re"
      ],
      "execution_count": 0,
      "outputs": []
    },
    {
      "cell_type": "markdown",
      "metadata": {
        "id": "7ocWlLR41y6O",
        "colab_type": "text"
      },
      "source": [
        "영어 단어 하나 하나를 임베딩 한 glove를 로드합니다."
      ]
    },
    {
      "cell_type": "code",
      "metadata": {
        "id": "w6sb1645tByk",
        "colab_type": "code",
        "outputId": "c154e479-476b-4641-bfe9-0b8948847656",
        "colab": {
          "base_uri": "https://localhost:8080/",
          "height": 70
        }
      },
      "source": [
        "glove_dir = './glove'\n",
        "glove_100k_50d = 'glove.first-100k.6B.50d.txt'\n",
        "glove_100k_50d_path = os.path.join(glove_dir, glove_100k_50d)\n",
        "\n",
        "data_cache = './data/cache'\n",
        "glove_full_tar = 'glove.6B.zip'\n",
        "glove_full_50d = 'glove.6B.50d.txt'\n",
        "\n",
        "\n",
        "download_url= 'http://redcatlabs.com/downloads/deep-learning-workshop/notebooks/data/RNN/'+glove_100k_50d\n",
        "original_url = 'http://nlp.stanford.edu/data/'+glove_full_tar\n",
        "\n",
        "if not os.path.isfile( glove_100k_50d_path ):\n",
        "    if not os.path.exists(glove_dir):\n",
        "        os.makedirs(glove_dir)\n",
        "    \n",
        "\n",
        "    response = requests.get(download_url, stream=True)\n",
        "    if response.status_code == requests.codes.ok:\n",
        "        print(\"Downloading 42Mb pre-prepared GloVE file from RedCatLabs\")\n",
        "        with open(glove_100k_50d_path, 'wb') as out_file:\n",
        "            shutil.copyfileobj(response.raw, out_file)\n",
        "    else:\n",
        "\n",
        "        if not os.path.exists(data_cache):\n",
        "            os.makedirs(data_cache)\n",
        "        \n",
        "        if not os.path.isfile( os.path.join(data_cache, glove_full_50d) ):\n",
        "            zipfilepath = os.path.join(data_cache, glove_full_tar)\n",
        "            if not os.path.isfile( zipfilepath ):\n",
        "                print(\"Downloading 860Mb GloVE file from Stanford\")\n",
        "                response = requests.get(download_url, stream=True)\n",
        "                with open(zipfilepath, 'wb') as out_file:\n",
        "                    shutil.copyfileobj(response.raw, out_file)\n",
        "            if os.path.isfile(zipfilepath):\n",
        "                print(\"Unpacking 50d GloVE file from zip\")\n",
        "                import zipfile\n",
        "                zipfile.ZipFile(zipfilepath, 'r').extract(glove_full_50d, data_cache)\n",
        "\n",
        "        with open(os.path.join(data_cache, glove_full_50d), 'rt') as in_file:\n",
        "            with open(glove_100k_50d_path, 'wt') as out_file:\n",
        "                print(\"Reducing 50d GloVE file to first 100k words\")\n",
        "                for i, l in enumerate(in_file.readlines()):\n",
        "                    if i>=100000: break\n",
        "                    out_file.write(l)\n",
        "    \n",
        "\n",
        "print(\"GloVE available locally\")\n",
        "\n",
        "def loadGloveModel(gloveFile):\n",
        "    print(\"Loading Glove Model\")\n",
        "    f = open(gloveFile,'r')\n",
        "    model = {}\n",
        "    for line in f:\n",
        "        splitLine = line.split()\n",
        "        word = splitLine[0]\n",
        "        embedding = np.array([float(val) for val in splitLine[1:]])\n",
        "        model[word] = embedding\n",
        "    print(\"Done.\",len(model),\" words loaded!\")\n",
        "    return model\n",
        "\n",
        "word_embedding = loadGloveModel(glove_100k_50d_path)"
      ],
      "execution_count": 41,
      "outputs": [
        {
          "output_type": "stream",
          "text": [
            "GloVE available locally\n",
            "Loading Glove Model\n",
            "Done. 100000  words loaded!\n"
          ],
          "name": "stdout"
        }
      ]
    },
    {
      "cell_type": "markdown",
      "metadata": {
        "id": "xky_lEys2n4R",
        "colab_type": "text"
      },
      "source": [
        "임베딩 벡터들이 잘 로드되었는지 10단어만 확인해보도록 하겠습니다."
      ]
    },
    {
      "cell_type": "code",
      "metadata": {
        "id": "I0x2onNORg8i",
        "colab_type": "code",
        "outputId": "9cc6de2b-936e-46b7-a188-d735c03431f8",
        "colab": {
          "base_uri": "https://localhost:8080/",
          "height": 1000
        }
      },
      "source": [
        "[(x,y) for x,y in word_embedding.items()][:10]"
      ],
      "execution_count": 42,
      "outputs": [
        {
          "output_type": "execute_result",
          "data": {
            "text/plain": [
              "[('the',\n",
              "  array([ 4.1800e-01,  2.4968e-01, -4.1242e-01,  1.2170e-01,  3.4527e-01,\n",
              "         -4.4457e-02, -4.9688e-01, -1.7862e-01, -6.6023e-04, -6.5660e-01,\n",
              "          2.7843e-01, -1.4767e-01, -5.5677e-01,  1.4658e-01, -9.5095e-03,\n",
              "          1.1658e-02,  1.0204e-01, -1.2792e-01, -8.4430e-01, -1.2181e-01,\n",
              "         -1.6801e-02, -3.3279e-01, -1.5520e-01, -2.3131e-01, -1.9181e-01,\n",
              "         -1.8823e+00, -7.6746e-01,  9.9051e-02, -4.2125e-01, -1.9526e-01,\n",
              "          4.0071e+00, -1.8594e-01, -5.2287e-01, -3.1681e-01,  5.9213e-04,\n",
              "          7.4449e-03,  1.7778e-01, -1.5897e-01,  1.2041e-02, -5.4223e-02,\n",
              "         -2.9871e-01, -1.5749e-01, -3.4758e-01, -4.5637e-02, -4.4251e-01,\n",
              "          1.8785e-01,  2.7849e-03, -1.8411e-01, -1.1514e-01, -7.8581e-01])),\n",
              " (',', array([ 0.013441,  0.23682 , -0.16899 ,  0.40951 ,  0.63812 ,  0.47709 ,\n",
              "         -0.42852 , -0.55641 , -0.364   , -0.23938 ,  0.13001 , -0.063734,\n",
              "         -0.39575 , -0.48162 ,  0.23291 ,  0.090201, -0.13324 ,  0.078639,\n",
              "         -0.41634 , -0.15428 ,  0.10068 ,  0.48891 ,  0.31226 , -0.1252  ,\n",
              "         -0.037512, -1.5179  ,  0.12612 , -0.02442 , -0.042961, -0.28351 ,\n",
              "          3.5416  , -0.11956 , -0.014533, -0.1499  ,  0.21864 , -0.33412 ,\n",
              "         -0.13872 ,  0.31806 ,  0.70358 ,  0.44858 , -0.080262,  0.63003 ,\n",
              "          0.32111 , -0.46765 ,  0.22786 ,  0.36034 , -0.37818 , -0.56657 ,\n",
              "          0.044691,  0.30392 ])),\n",
              " ('.', array([ 1.5164e-01,  3.0177e-01, -1.6763e-01,  1.7684e-01,  3.1719e-01,\n",
              "          3.3973e-01, -4.3478e-01, -3.1086e-01, -4.4999e-01, -2.9486e-01,\n",
              "          1.6608e-01,  1.1963e-01, -4.1328e-01, -4.2353e-01,  5.9868e-01,\n",
              "          2.8825e-01, -1.1547e-01, -4.1848e-02, -6.7989e-01, -2.5063e-01,\n",
              "          1.8472e-01,  8.6876e-02,  4.6582e-01,  1.5035e-02,  4.3474e-02,\n",
              "         -1.4671e+00, -3.0384e-01, -2.3441e-02,  3.0589e-01, -2.1785e-01,\n",
              "          3.7460e+00,  4.2284e-03, -1.8436e-01, -4.6209e-01,  9.8329e-02,\n",
              "         -1.1907e-01,  2.3919e-01,  1.1610e-01,  4.1705e-01,  5.6763e-02,\n",
              "         -6.3681e-05,  6.8987e-02,  8.7939e-02, -1.0285e-01, -1.3931e-01,\n",
              "          2.2314e-01, -8.0803e-02, -3.5652e-01,  1.6413e-02,  1.0216e-01])),\n",
              " ('of', array([ 0.70853  ,  0.57088  , -0.4716   ,  0.18048  ,  0.54449  ,\n",
              "          0.72603  ,  0.18157  , -0.52393  ,  0.10381  , -0.17566  ,\n",
              "          0.078852 , -0.36216  , -0.11829  , -0.83336  ,  0.11917  ,\n",
              "         -0.16605  ,  0.061555 , -0.012719 , -0.56623  ,  0.013616 ,\n",
              "          0.22851  , -0.14396  , -0.067549 , -0.38157  , -0.23698  ,\n",
              "         -1.7037   , -0.86692  , -0.26704  , -0.2589   ,  0.1767   ,\n",
              "          3.8676   , -0.1613   , -0.13273  , -0.68881  ,  0.18444  ,\n",
              "          0.0052464, -0.33874  , -0.078956 ,  0.24185  ,  0.36576  ,\n",
              "         -0.34727  ,  0.28483  ,  0.075693 , -0.062178 , -0.38988  ,\n",
              "          0.22902  , -0.21617  , -0.22562  , -0.093918 , -0.80375  ])),\n",
              " ('to',\n",
              "  array([ 0.68047 , -0.039263,  0.30186 , -0.17792 ,  0.42962 ,  0.032246,\n",
              "         -0.41376 ,  0.13228 , -0.29847 , -0.085253,  0.17118 ,  0.22419 ,\n",
              "         -0.10046 , -0.43653 ,  0.33418 ,  0.67846 ,  0.057204, -0.34448 ,\n",
              "         -0.42785 , -0.43275 ,  0.55963 ,  0.10032 ,  0.18677 , -0.26854 ,\n",
              "          0.037334, -2.0932  ,  0.22171 , -0.39868 ,  0.20912 , -0.55725 ,\n",
              "          3.8826  ,  0.47466 , -0.95658 , -0.37788 ,  0.20869 , -0.32752 ,\n",
              "          0.12751 ,  0.088359,  0.16351 , -0.21634 , -0.094375,  0.018324,\n",
              "          0.21048 , -0.03088 , -0.19722 ,  0.082279, -0.09434 , -0.073297,\n",
              "         -0.064699, -0.26044 ])),\n",
              " ('and',\n",
              "  array([ 0.26818 ,  0.14346 , -0.27877 ,  0.016257,  0.11384 ,  0.69923 ,\n",
              "         -0.51332 , -0.47368 , -0.33075 , -0.13834 ,  0.2702  ,  0.30938 ,\n",
              "         -0.45012 , -0.4127  , -0.09932 ,  0.038085,  0.029749,  0.10076 ,\n",
              "         -0.25058 , -0.51818 ,  0.34558 ,  0.44922 ,  0.48791 , -0.080866,\n",
              "         -0.10121 , -1.3777  , -0.10866 , -0.23201 ,  0.012839, -0.46508 ,\n",
              "          3.8463  ,  0.31362 ,  0.13643 , -0.52244 ,  0.3302  ,  0.33707 ,\n",
              "         -0.35601 ,  0.32431 ,  0.12041 ,  0.3512  , -0.069043,  0.36885 ,\n",
              "          0.25168 , -0.24517 ,  0.25381 ,  0.1367  , -0.31178 , -0.6321  ,\n",
              "         -0.25028 , -0.38097 ])),\n",
              " ('in', array([ 0.33042  ,  0.24995  , -0.60874  ,  0.10923  ,  0.036372 ,\n",
              "          0.151    , -0.55083  , -0.074239 , -0.092307 , -0.32821  ,\n",
              "          0.09598  , -0.82269  , -0.36717  , -0.67009  ,  0.42909  ,\n",
              "          0.016496 , -0.23573  ,  0.12864  , -1.0953   ,  0.43334  ,\n",
              "          0.57067  , -0.1036   ,  0.20422  ,  0.078308 , -0.42795  ,\n",
              "         -1.7984   , -0.27865  ,  0.11954  , -0.12689  ,  0.031744 ,\n",
              "          3.8631   , -0.17786  , -0.082434 , -0.62698  ,  0.26497  ,\n",
              "         -0.057185 , -0.073521 ,  0.46103  ,  0.30862  ,  0.12498  ,\n",
              "         -0.48609  , -0.0080272,  0.031184 , -0.36576  , -0.42699  ,\n",
              "          0.42164  , -0.11666  , -0.50703  , -0.027273 , -0.53285  ])),\n",
              " ('a', array([ 0.21705 ,  0.46515 , -0.46757 ,  0.10082 ,  1.0135  ,  0.74845 ,\n",
              "         -0.53104 , -0.26256 ,  0.16812 ,  0.13182 , -0.24909 , -0.44185 ,\n",
              "         -0.21739 ,  0.51004 ,  0.13448 , -0.43141 , -0.03123 ,  0.20674 ,\n",
              "         -0.78138 , -0.20148 , -0.097401,  0.16088 , -0.61836 , -0.18504 ,\n",
              "         -0.12461 , -2.2526  , -0.22321 ,  0.5043  ,  0.32257 ,  0.15313 ,\n",
              "          3.9636  , -0.71365 , -0.67012 ,  0.28388 ,  0.21738 ,  0.14433 ,\n",
              "          0.25926 ,  0.23434 ,  0.4274  , -0.44451 ,  0.13813 ,  0.36973 ,\n",
              "         -0.64289 ,  0.024142, -0.039315, -0.26037 ,  0.12017 , -0.043782,\n",
              "          0.41013 ,  0.1796  ])),\n",
              " ('\"', array([ 0.25769 ,  0.45629 , -0.76974 , -0.37679 ,  0.59272 , -0.063527,\n",
              "          0.20545 , -0.57385 , -0.29009 , -0.13662 ,  0.32728 ,  1.4719  ,\n",
              "         -0.73681 , -0.12036 ,  0.71354 , -0.46098 ,  0.65248 ,  0.48887 ,\n",
              "         -0.51558 ,  0.039951, -0.34307 , -0.014087,  0.86488 ,  0.3546  ,\n",
              "          0.7999  , -1.4995  , -1.8153  ,  0.41128 ,  0.23921 , -0.43139 ,\n",
              "          3.6623  , -0.79834 , -0.54538 ,  0.16943 , -0.82017 , -0.3461  ,\n",
              "          0.69495 , -1.2256  , -0.17992 , -0.057474,  0.030498, -0.39543 ,\n",
              "         -0.38515 , -1.0002  ,  0.087599, -0.31009 , -0.34677 , -0.31438 ,\n",
              "          0.75004 ,  0.97065 ])),\n",
              " (\"'s\", array([ 0.23727  ,  0.40478  , -0.20547  ,  0.58805  ,  0.65533  ,\n",
              "          0.32867  , -0.81964  , -0.23236  ,  0.27428  ,  0.24265  ,\n",
              "          0.054992 ,  0.16296  , -1.2555   , -0.086437 ,  0.44536  ,\n",
              "          0.096561 , -0.16519  ,  0.058378 , -0.38598  ,  0.086977 ,\n",
              "          0.0033869,  0.55095  , -0.77697  , -0.62096  ,  0.092948 ,\n",
              "         -2.5685   , -0.67739  ,  0.10151  , -0.48643  , -0.057805 ,\n",
              "          3.1859   , -0.017554 , -0.16138  ,  0.055486 , -0.25885  ,\n",
              "         -0.33938  , -0.19928  ,  0.26049  ,  0.10478  , -0.55934  ,\n",
              "         -0.12342  ,  0.65961  , -0.51802  , -0.82995  , -0.082739 ,\n",
              "          0.28155  , -0.423    , -0.27378  , -0.007901 , -0.030231 ]))]"
            ]
          },
          "metadata": {
            "tags": []
          },
          "execution_count": 42
        }
      ]
    },
    {
      "cell_type": "markdown",
      "metadata": {
        "id": "i2gwT6Hl23nL",
        "colab_type": "text"
      },
      "source": [
        "sen2vec 함수를 정의합니다.  \n",
        "문장을 단어들의 임베딩 벡터로 변환해줍니다.  \n",
        "i have a boyfriend 라는 문장을 예로 들면,  \n",
        "[i, have, a, boyfriend]로 split 되고,  \n",
        "i에 해당하는 임베딩 벡터(50차원), have에 해당하는 임베딩 벡터(50차원), a에 해당하는 임베딩 벡터(50차원), boyfriend에 해당하는 임베딩 벡터(50차원)의 묶음이 리턴됩니다.  \n",
        "즉 [i(임베딩벡터), have(임베딩벡터), a(임베딩벡터), boyfriend(임베딩벡터)]를 리턴하게 됩니다."
      ]
    },
    {
      "cell_type": "code",
      "metadata": {
        "id": "CSjK43bxR3qZ",
        "colab_type": "code",
        "colab": {}
      },
      "source": [
        "def sen2vec(sentence):\n",
        "  sentence = sentence.lower()\n",
        "  sent_list = list(map(lambda x: re.sub(r'[^a-zA-Z]+', \"\", x), sentence.split()))\n",
        "  \n",
        "  vecs = []\n",
        "  for word in sent_list:\n",
        "    try:\n",
        "      word_vec = word_embedding[word]\n",
        "      vecs.append(word_vec)\n",
        "    except:\n",
        "      word_vec = np.zeros(50)\n",
        "      vecs.append(word_vec)\n",
        "  return np.array(vecs)"
      ],
      "execution_count": 0,
      "outputs": []
    },
    {
      "cell_type": "code",
      "metadata": {
        "id": "b3A6lxx2UL5v",
        "colab_type": "code",
        "outputId": "9740b82d-0cfe-41c8-ee65-d9c223b1dba3",
        "colab": {
          "base_uri": "https://localhost:8080/",
          "height": 650
        }
      },
      "source": [
        "sen_vec = sen2vec(\"i have a boyfriend\")\n",
        "print(sen_vec)"
      ],
      "execution_count": 44,
      "outputs": [
        {
          "output_type": "stream",
          "text": [
            "[[ 1.1891e-01  1.5255e-01 -8.2073e-02 -7.4144e-01  7.5917e-01 -4.8328e-01\n",
            "  -3.1009e-01  5.1476e-01 -9.8708e-01  6.1757e-04 -1.5043e-01  8.3770e-01\n",
            "  -1.0797e+00 -5.1460e-01  1.3188e+00  6.2007e-01  1.3779e-01  4.7108e-01\n",
            "  -7.2874e-02 -7.2675e-01 -7.4116e-01  7.5263e-01  8.8180e-01  2.9561e-01\n",
            "   1.3548e+00 -2.5701e+00 -1.3523e+00  4.5880e-01  1.0068e+00 -1.1856e+00\n",
            "   3.4737e+00  7.7898e-01 -7.2929e-01  2.5102e-01 -2.6156e-01 -3.4684e-01\n",
            "   5.5841e-01  7.5098e-01  4.9830e-01 -2.6823e-01 -2.7443e-03 -1.8298e-02\n",
            "  -2.8096e-01  5.5318e-01  3.7706e-02  1.8555e-01 -1.5025e-01 -5.7512e-01\n",
            "  -2.6671e-01  9.2121e-01]\n",
            " [ 9.4911e-01 -3.4968e-01  4.8125e-01 -1.9306e-01 -8.8384e-03  2.8182e-01\n",
            "  -9.6130e-01 -1.3581e-01 -4.3083e-01 -9.2933e-02  1.5689e-01  5.9585e-02\n",
            "  -4.9635e-01 -1.7414e-01  7.5661e-01  4.9210e-01  2.1773e-01 -2.2778e-01\n",
            "  -1.3686e-01 -9.0589e-01 -4.8781e-01  1.9919e-01  9.1447e-01 -1.6203e-01\n",
            "  -2.0645e-01 -1.7312e+00 -4.7622e-01 -4.8540e-02 -1.4027e-01 -4.5828e-01\n",
            "   4.0326e+00  6.0520e-01  1.0448e-01 -7.3610e-01  2.4850e-01 -3.3461e-02\n",
            "  -1.3395e-01  5.2782e-02 -2.7268e-01  7.9825e-02 -8.0127e-01  3.0831e-01\n",
            "   4.3567e-01  8.8747e-01  2.9816e-01 -2.4650e-02 -9.5075e-01  3.6233e-01\n",
            "  -7.2512e-01 -6.0890e-01]\n",
            " [ 2.1705e-01  4.6515e-01 -4.6757e-01  1.0082e-01  1.0135e+00  7.4845e-01\n",
            "  -5.3104e-01 -2.6256e-01  1.6812e-01  1.3182e-01 -2.4909e-01 -4.4185e-01\n",
            "  -2.1739e-01  5.1004e-01  1.3448e-01 -4.3141e-01 -3.1230e-02  2.0674e-01\n",
            "  -7.8138e-01 -2.0148e-01 -9.7401e-02  1.6088e-01 -6.1836e-01 -1.8504e-01\n",
            "  -1.2461e-01 -2.2526e+00 -2.2321e-01  5.0430e-01  3.2257e-01  1.5313e-01\n",
            "   3.9636e+00 -7.1365e-01 -6.7012e-01  2.8388e-01  2.1738e-01  1.4433e-01\n",
            "   2.5926e-01  2.3434e-01  4.2740e-01 -4.4451e-01  1.3813e-01  3.6973e-01\n",
            "  -6.4289e-01  2.4142e-02 -3.9315e-02 -2.6037e-01  1.2017e-01 -4.3782e-02\n",
            "   4.1013e-01  1.7960e-01]\n",
            " [ 8.2780e-02  6.5019e-01  1.0636e-01 -1.3860e-01  5.4879e-01  1.2517e+00\n",
            "  -8.6282e-01  8.4619e-01 -5.0590e-01  4.6340e-01  5.4455e-02  6.6988e-01\n",
            "  -8.9150e-01  2.0560e-01  1.3387e+00 -3.1497e-02 -4.8459e-01 -3.4631e-02\n",
            "   3.2652e-01  2.3114e-01 -1.4372e-01  1.6031e+00 -2.9323e-01  1.2884e+00\n",
            "   1.6408e-01 -1.4797e+00  4.2259e-01 -1.2364e-01  5.4532e-01 -9.2664e-04\n",
            "   7.3112e-01 -1.9661e-01 -2.9452e-02  1.3864e-01  5.6976e-01  3.8178e-01\n",
            "   2.1055e-02 -2.8832e-01  5.0533e-01 -8.0103e-01  4.3094e-01  9.1548e-01\n",
            "  -2.5405e-01 -4.6106e-03  1.0040e+00 -1.0862e+00  9.1540e-02 -1.3123e+00\n",
            "   4.6939e-01  5.4137e-01]]\n"
          ],
          "name": "stdout"
        }
      ]
    },
    {
      "cell_type": "code",
      "metadata": {
        "id": "7gAArvKNXGBo",
        "colab_type": "code",
        "outputId": "3fa8a362-a390-4862-d32d-83e1e8a06934",
        "colab": {
          "base_uri": "https://localhost:8080/",
          "height": 34
        }
      },
      "source": [
        "# 4개의 단어, 단어 하나하나당 50차원의 벡터\n",
        "sen_vec.shape"
      ],
      "execution_count": 45,
      "outputs": [
        {
          "output_type": "execute_result",
          "data": {
            "text/plain": [
              "(4, 50)"
            ]
          },
          "metadata": {
            "tags": []
          },
          "execution_count": 45
        }
      ]
    },
    {
      "cell_type": "markdown",
      "metadata": {
        "id": "0uIkTVge3v3Z",
        "colab_type": "text"
      },
      "source": [
        "Softmax 함수를 정의해줍니다.  \n",
        "왜 Softmax를 사용하냐면, 단어와 문장을 inner product(내적)한 후,  \n",
        "softmax 함수를 통해서 내적의 값을 0과 1 사이로 스케일링 해 줍니다.  \n",
        "\n",
        "  \n",
        "a 벡터와 b 벡터를 내적한다는 것의 의미는, a와 b가 얼마나 가까운지를 나타내는 것입니다.  \n",
        "자연어에서는 단어 a의 임베딩과 단어 b의 임베딩을 내적하는 것입니다.  \n",
        "만약 벡터 a가 [x1,x2], 벡터 b가 [y1,y2]라면 내적 값은 x1 * y1 + x2 * y2 입니다.   \n",
        "그리고 a와 b의 내적은 lallblcos(θ) = x1 * y1 + x2 * y2 이기 때문에 a와 b가 가까울 수록, 내적의 값은 일반적으로 커지게 됩니다. \n",
        "\n",
        "![Imgur](https://i.imgur.com/8CWYkqO.jpg)\n"
      ]
    },
    {
      "cell_type": "markdown",
      "metadata": {
        "id": "IXaQvLk6zfE-",
        "colab_type": "text"
      },
      "source": [
        "softmax 함수에서, 가로 축의 합이 1이 되게 만들어 줍니다.  \n",
        "만약 (단어1, 단어2)를 (단어3, 단어4)와 내적하고 소프트맥스 함수를 출력하면, 2 x 2 행렬이 나오게 됩니다.  "
      ]
    },
    {
      "cell_type": "markdown",
      "metadata": {
        "id": "_KQdcq-p0RVO",
        "colab_type": "text"
      },
      "source": [
        "예를 들어 단어 1, 단어 2를 [1,0] 이라 가정하고, 단어 3, 단어 4를 [4,9]라 가정한다면,   \n",
        "아웃풋 값은 [[0.73, 0.27], [0.006, 0.993]]  이 되는데,   \n",
        "첫 번째 행인 [0.73, 0.27]의 의미는 단어 1을 단어 3, 단어 4와 내적하고 소프트맥스 계층을 출력했을 때의 값입니다.  \n",
        "두 번째 행인 [0.006, 0.993]의 의미는 마찬가지로 단어 2를 단어 3, 단어 4와 내적한 다음 소프트맥스 계층을 출력했을 때의 값을 의미합니다.  \n",
        "  \n",
        "\n",
        "엄밀하진 않지만, 쉽게 설명 드리자면 **단어 1은 단어 3과 0.73만큼** 닮았고, **단어 4와 0.27만큼** 닮았다는 뜻입니다.  \n",
        "**단어 2는 단어 3과 0.006만큼** 닮았고, **단어 4와 0.993만큼** 닮았다는 뜻입니다.  \n",
        "  \n",
        "약간 헷갈리실 수 있는데, 단어는 50차원을 가진다고 했었는데 너무 단순하게 가정했습니다.  \n",
        "그렇지만 사실 50차원이라 가정해도 결과는 동일합니다 왜냐하면 단어 1과 단어 2는 (2, 50) 차원이고, 단어 3과 4 또한 (2,50) 차원이고, 단어 1과 단어 2의 묶음을 행렬 A라 가정하고, 단어 3과 4를 B라 가정하면, 내적 값은 행렬곱 A * (B의 전치행렬) 이 되어서 2 * 2 행렬을 최종 출력값으로 나타냅니다."
      ]
    },
    {
      "cell_type": "code",
      "metadata": {
        "id": "lnLk5loBaPIq",
        "colab_type": "code",
        "outputId": "23e34c51-7d8f-4857-94b1-febe9b374caa",
        "colab": {
          "base_uri": "https://localhost:8080/",
          "height": 52
        }
      },
      "source": [
        "def softmax(x):\n",
        "    e_x = x - np.max(x, axis=-1)[np.newaxis,:].T\n",
        "    e_x = np.exp(e_x)\n",
        "    return e_x / e_x.sum(axis = - 1)[np.newaxis,:].T\n",
        "\n",
        "scores = np.array([[1,0],[4,9]])\n",
        "print(softmax(scores))"
      ],
      "execution_count": 46,
      "outputs": [
        {
          "output_type": "stream",
          "text": [
            "[[0.73105858 0.26894142]\n",
            " [0.00669285 0.99330715]]\n"
          ],
          "name": "stdout"
        }
      ]
    },
    {
      "cell_type": "code",
      "metadata": {
        "id": "KLY6ti_T5sid",
        "colab_type": "code",
        "colab": {
          "base_uri": "https://localhost:8080/",
          "height": 34
        },
        "outputId": "d9deab24-0b72-497e-ae2c-3e8ba5ee8f1e"
      },
      "source": [
        "0.7*4+0.3*9, 0.006*4+0.993*9"
      ],
      "execution_count": 61,
      "outputs": [
        {
          "output_type": "execute_result",
          "data": {
            "text/plain": [
              "(5.5, 8.960999999999999)"
            ]
          },
          "metadata": {
            "tags": []
          },
          "execution_count": 61
        }
      ]
    },
    {
      "cell_type": "markdown",
      "metadata": {
        "id": "cXKf-a8T2uip",
        "colab_type": "text"
      },
      "source": [
        "예를 들어 **문장1 : (단어1, 단어2)** **문장2 : (단어3, 단어4)** 라 했을 때,  \n",
        "소프트맥스 함수 결과가 (0.7, 0.3), (0.006, 0.994)가 나왔다고 치겠습니다.  \n",
        "이 결과가 의미하는 것은 **단어 1 은 단어 3과 0.7의 관계**, **단어 4와 0.3의 관계**가 있다는 의미입니다.  \n",
        "마찬가지로 **단어 2는 단어 3과 0.006의 관계**, **단어 4와 0.99의 관계**가 있다는 의미입니다."
      ]
    },
    {
      "cell_type": "markdown",
      "metadata": {
        "id": "jZmWjT2D08Tw",
        "colab_type": "text"
      },
      "source": [
        "어텐션을 계산하는 일반적인 함수를 만들어보도록 하겠습니다.  \n",
        "attention_weights는 문장1과 문장2의 소프트맥스 함수 값,  \n",
        "output은 문장 1의 단어를 문장 2의 조합으로 나타낸 결과를 나타냅니다.  \n",
        "output의 값은  단어 1 = 0.7 * 단어3 + 0.3 * 단어 4  \n",
        "단어 2 = 0.006 * 단어 3 + 0.3 * 단어 4 과 같은 방식으로 표현한 것입니다."
      ]
    },
    {
      "cell_type": "code",
      "metadata": {
        "id": "ok7GRiuYUPJD",
        "colab_type": "code",
        "colab": {}
      },
      "source": [
        "def get_attention_output(query, key, value):\n",
        "  qk = np.matmul(query, key.T) # query와 key의 내적, query shape = (문장길이, 50차원), key shape = (문장길이, 50차원), value shape = (문장길이, 50차원)\n",
        "                               # dk 차원은 = (문장길이 * 문장길이)\n",
        "                               # 참고로 문장길이는 문장 내의 단어의 수( I have a boyfriend에서 단어의 수는 4)\n",
        "\n",
        "  d = key.shape[-1]\n",
        "  \n",
        "  logit = qk / np.sqrt(d) # 단어의 루트(길이)로 나눠줌\n",
        "\n",
        "  attention_weights = softmax(logit) # 소프트맥스 함수 적용\n",
        "  output = np.matmul(attention_weights, value) # 소프트 맥스 함수에 value를 곱하면 문장 1을 문장2의 단어로 표현하면 무슨 관계인지 나타내주는 값 출력\n",
        "\n",
        "  return attention_weights, output"
      ],
      "execution_count": 0,
      "outputs": []
    },
    {
      "cell_type": "markdown",
      "metadata": {
        "id": "F_Eo_qez4IYi",
        "colab_type": "text"
      },
      "source": [
        "query, key, value를 다 같은 함수로 입력하면 self-attention임(자기 자신과의 내적값 계산)  \n",
        "트랜스포머의 인코더나 버트에서는 query, key, value가 같은 문장이 들어감"
      ]
    },
    {
      "cell_type": "code",
      "metadata": {
        "id": "k69eCeKzb0t_",
        "colab_type": "code",
        "outputId": "da5c3bcf-d11f-4659-dfa6-c6bf0fdf9e42",
        "colab": {
          "base_uri": "https://localhost:8080/",
          "height": 791
        }
      },
      "source": [
        "get_attention_output(sen_vec, sen_vec, sen_vec)"
      ],
      "execution_count": 50,
      "outputs": [
        {
          "output_type": "execute_result",
          "data": {
            "text/plain": [
              "(array([[0.82539694, 0.09316572, 0.06088821, 0.02054913],\n",
              "        [0.24189774, 0.62320525, 0.11484694, 0.02005007],\n",
              "        [0.20616176, 0.14976789, 0.59562366, 0.04844669],\n",
              "        [0.17029765, 0.06399637, 0.11857808, 0.6471279 ]]),\n",
              " array([[ 0.20148931,  0.1350191 , -0.04919069, -0.62667824,  0.69878051,\n",
              "         -0.30134875, -0.39557182,  0.41363015, -0.85503068,  0.00940032,\n",
              "         -0.12359533,  0.68384829, -0.96897992, -0.40569282,  1.19472097,\n",
              "          0.53073572,  0.12215698,  0.37948309, -0.11376776, -0.69177315,\n",
              "         -0.66608226,  0.68251418,  0.76935583,  0.24410869,  1.09479813,\n",
              "         -2.4502045 , -1.16545866,  0.40233508,  0.84878785, -1.01198183,\n",
              "          3.49924182,  0.65185857, -0.6336274 ,  0.15874573, -0.16779519,\n",
              "         -0.27276485,  0.4646489 ,  0.63311789,  0.42229858, -0.25748515,\n",
              "         -0.0596501 ,  0.05494532, -0.23567894,  0.54065008,  0.07713821,\n",
              "          0.11268194, -0.2033952 , -0.47057798, -0.25308031,  0.72569551],\n",
              "        [ 0.64684167, -0.1145635 ,  0.22849779, -0.29086874,  0.30553402,\n",
              "          0.16978123, -0.7523852 ,  0.02669373, -0.4981032 , -0.03333662,\n",
              "          0.0338706 ,  0.20245744, -0.61334613, -0.17030671,  0.8328237 ,\n",
              "          0.4064952 ,  0.15571884, -0.0049514 , -0.18611228, -0.75885958,\n",
              "         -0.49735848,  0.35681459,  0.7063119 , -0.02488933,  0.18804107,\n",
              "         -1.98896662, -0.64106315,  0.13617062,  0.20410552, -0.55482853,\n",
              "          3.82328402,  0.47969476, -0.18885287, -0.36263772,  0.12798489,\n",
              "         -0.08052231,  0.08179715,  0.23568678,  0.00981952, -0.08224819,\n",
              "         -0.47551533,  0.24853196,  0.12462057,  0.68956915,  0.21055093,\n",
              "         -0.02215896, -0.61322099,  0.0553458 , -0.45990166, -0.12515005],\n",
              "        [ 0.29995143,  0.28763304, -0.21818748, -0.1284347 ,  0.78543975,\n",
              "          0.44900898, -0.56600133, -0.02960799, -0.19239558,  0.08717425,\n",
              "         -0.15324156, -0.04909722, -0.469603  ,  0.18158111,  0.53015707,\n",
              "         -0.05694843,  0.01893788,  0.18446603, -0.48511067, -0.39430958,\n",
              "         -0.29083422,  0.35848462, -0.06376418, -0.0111189 ,  0.18211684,\n",
              "         -2.20252293, -0.46259108,  0.38170034,  0.40510499, -0.22189805,\n",
              "          3.71633238, -0.18335651, -0.53527014,  0.11730887,  0.14037331,\n",
              "          0.02794581,  0.25050281,  0.28833871,  0.34094281, -0.34691147,\n",
              "         -0.01741917,  0.3069745 , -0.38790221,  0.26111525,  0.07765186,\n",
              "         -0.17314379, -0.09735672, -0.15395654,  0.10343843,  0.2319262 ],\n",
              "        [ 0.16029631,  0.47951334,  0.03020639, -0.21635751,  0.60403544,\n",
              "          0.83449377, -0.73565191,  0.59543037, -0.50311562,  0.30966783,\n",
              "         -0.00987475,  0.52757588, -0.81832718,  0.09474956,  1.15526534,\n",
              "          0.06555072, -0.27989566,  0.06775087,  0.09747685, -0.05605146,\n",
              "         -0.26199072,  1.19740614, -0.05439003,  0.85179026,  0.30891193,\n",
              "         -1.77313664, -0.01376789,  0.05481421,  0.55362042, -0.21367494,\n",
              "          1.79275893, -0.040466  , -0.21603078,  0.11902014,  0.36584414,\n",
              "          0.20296745,  0.13089142, -0.02752435,  0.4451022 , -0.61164843,\n",
              "          0.24350677,  0.65288914, -0.26060103,  0.15087918,  0.67055692,\n",
              "         -0.70376329, -0.01294416, -0.92917131,  0.26056266,  0.48954476]]))"
            ]
          },
          "metadata": {
            "tags": []
          },
          "execution_count": 50
        }
      ]
    },
    {
      "cell_type": "code",
      "metadata": {
        "id": "eCzeA1GxcPzb",
        "colab_type": "code",
        "colab": {}
      },
      "source": [
        "def plot_attention_weights(sentence1, sentence2):\n",
        "  fig = plt.figure(figsize=(8, 8))\n",
        "  sen_len1 = len(sentence1.split())\n",
        "  sen_len2 = len(sentence2.split())\n",
        "  sent_embedding1 = sen2vec(sentence1)\n",
        "  sent_embedding2 = sen2vec(sentence2)\n",
        "  attention, _ = get_attention_output(sent_embedding1, sent_embedding2, sent_embedding2)\n",
        "  ax = fig.add_subplot(1, 1, 1)\n",
        "  ax.matshow(attention, cmap='gray')\n",
        "\n",
        "  fontdict = {'fontsize': 10}\n",
        "  ax.set_xticks(range(sen_len2))\n",
        "  ax.set_yticks(range(sen_len1))    \n",
        "        \n",
        "  ax.set_xticklabels([i for i in sentence2.split()], fontdict=fontdict)\n",
        "  ax.set_yticklabels([i for i in sentence1.split()], fontdict=fontdict)\n",
        "  \n",
        "  for (i, j), z in np.ndenumerate(attention):\n",
        "    ax.text(j, i, '{:0.3f}'.format(z), ha='center', va='center', c='r')\n",
        "\n",
        "  plt.tight_layout()\n",
        "  plt.show()"
      ],
      "execution_count": 0,
      "outputs": []
    },
    {
      "cell_type": "markdown",
      "metadata": {
        "id": "nTIWSBod4ZOH",
        "colab_type": "text"
      },
      "source": [
        "그림으로 보면서 알아보도록 하겠습니다.  \n",
        "**같은 문장끼리의 어텐션 값 출력 -> 셀프 어텐션**"
      ]
    },
    {
      "cell_type": "code",
      "metadata": {
        "id": "_xJlaOG1ivhc",
        "colab_type": "code",
        "outputId": "ae630555-5d26-49b4-a505-1a5e0c7e9e13",
        "colab": {
          "base_uri": "https://localhost:8080/",
          "height": 557
        }
      },
      "source": [
        "plot_attention_weights(\"i have a boyfriend\", \"i have a boyfriend\")"
      ],
      "execution_count": 52,
      "outputs": [
        {
          "output_type": "display_data",
          "data": {
            "image/png": "[encoded data removed]",
            "text/plain": [
              "<Figure size 576x576 with 1 Axes>"
            ]
          },
          "metadata": {
            "tags": [],
            "needs_background": "light"
          }
        }
      ]
    },
    {
      "cell_type": "code",
      "metadata": {
        "id": "QQnuT_WFGdws",
        "colab_type": "code",
        "colab": {
          "base_uri": "https://localhost:8080/",
          "height": 193
        },
        "outputId": "d3f6f38f-dab6-41c4-b3b9-aca0cf68179f"
      },
      "source": [
        "#boyfriend에 해당하는 어텐션 값\n",
        "0.170*sen2vec(\"i\") + 0.064*sen2vec(\"have\") + 0.119*sen2vec(\"a\") + 0.647*sen2vec(\"boyfriend\")"
      ],
      "execution_count": 62,
      "outputs": [
        {
          "output_type": "execute_result",
          "data": {
            "text/plain": [
              "array([[ 0.16034535,  0.47957976,  0.03002168, -0.21607726,  0.60416687,\n",
              "         0.83479433, -0.7356768 ,  0.59505765, -0.50268774,  0.30966365,\n",
              "        -0.00994146,  0.52705465, -0.81798531,  0.095091  ,  1.15476106,\n",
              "         0.06518995, -0.27988708,  0.06770148,  0.0971266 , -0.055953  ,\n",
              "        -0.2617946 ,  1.19704568, -0.05487257,  0.85145882,  0.30843437,\n",
              "        -1.7731391 , -0.01351534,  0.05490606,  0.55338659, -0.21325899,\n",
              "         1.79331844, -0.04097162, -0.2160923 ,  0.1190448 ,  0.36594174,\n",
              "         0.20308263,  0.13083143, -0.02761193,  0.44506859, -0.6116534 ,\n",
              "         0.24350784,  0.65293461, -0.26075458,  0.15072852,  0.67040178,\n",
              "        -0.70378953, -0.01286389, -0.92884944,  0.26075242,  0.48927489]])"
            ]
          },
          "metadata": {
            "tags": []
          },
          "execution_count": 62
        }
      ]
    },
    {
      "cell_type": "markdown",
      "metadata": {
        "id": "xMw1DYJb4jIf",
        "colab_type": "text"
      },
      "source": [
        "첫번째 튜플은 소프트맥스 값이고,  \n",
        "\n",
        "두번째 튜플이 어텐션 값(4,50차원)인데, 차례대로 i, have, a, boyfriend에 해당하는 어텐션 값을 나타냅니다. "
      ]
    },
    {
      "cell_type": "code",
      "metadata": {
        "id": "9VTq4ShnjoFz",
        "colab_type": "code",
        "outputId": "b3d9ad26-0d3b-4c2a-918a-fbc1e594defb",
        "colab": {
          "base_uri": "https://localhost:8080/",
          "height": 791
        }
      },
      "source": [
        "get_attention_output(sen2vec(\"i have a boyfriend\"),sen2vec(\"i have a boyfriend\"),sen2vec(\"i have a boyfriend\"))"
      ],
      "execution_count": 66,
      "outputs": [
        {
          "output_type": "execute_result",
          "data": {
            "text/plain": [
              "(array([[0.82539694, 0.09316572, 0.06088821, 0.02054913],\n",
              "        [0.24189774, 0.62320525, 0.11484694, 0.02005007],\n",
              "        [0.20616176, 0.14976789, 0.59562366, 0.04844669],\n",
              "        [0.17029765, 0.06399637, 0.11857808, 0.6471279 ]]),\n",
              " array([[ 0.20148931,  0.1350191 , -0.04919069, -0.62667824,  0.69878051,\n",
              "         -0.30134875, -0.39557182,  0.41363015, -0.85503068,  0.00940032,\n",
              "         -0.12359533,  0.68384829, -0.96897992, -0.40569282,  1.19472097,\n",
              "          0.53073572,  0.12215698,  0.37948309, -0.11376776, -0.69177315,\n",
              "         -0.66608226,  0.68251418,  0.76935583,  0.24410869,  1.09479813,\n",
              "         -2.4502045 , -1.16545866,  0.40233508,  0.84878785, -1.01198183,\n",
              "          3.49924182,  0.65185857, -0.6336274 ,  0.15874573, -0.16779519,\n",
              "         -0.27276485,  0.4646489 ,  0.63311789,  0.42229858, -0.25748515,\n",
              "         -0.0596501 ,  0.05494532, -0.23567894,  0.54065008,  0.07713821,\n",
              "          0.11268194, -0.2033952 , -0.47057798, -0.25308031,  0.72569551],\n",
              "        [ 0.64684167, -0.1145635 ,  0.22849779, -0.29086874,  0.30553402,\n",
              "          0.16978123, -0.7523852 ,  0.02669373, -0.4981032 , -0.03333662,\n",
              "          0.0338706 ,  0.20245744, -0.61334613, -0.17030671,  0.8328237 ,\n",
              "          0.4064952 ,  0.15571884, -0.0049514 , -0.18611228, -0.75885958,\n",
              "         -0.49735848,  0.35681459,  0.7063119 , -0.02488933,  0.18804107,\n",
              "         -1.98896662, -0.64106315,  0.13617062,  0.20410552, -0.55482853,\n",
              "          3.82328402,  0.47969476, -0.18885287, -0.36263772,  0.12798489,\n",
              "         -0.08052231,  0.08179715,  0.23568678,  0.00981952, -0.08224819,\n",
              "         -0.47551533,  0.24853196,  0.12462057,  0.68956915,  0.21055093,\n",
              "         -0.02215896, -0.61322099,  0.0553458 , -0.45990166, -0.12515005],\n",
              "        [ 0.29995143,  0.28763304, -0.21818748, -0.1284347 ,  0.78543975,\n",
              "          0.44900898, -0.56600133, -0.02960799, -0.19239558,  0.08717425,\n",
              "         -0.15324156, -0.04909722, -0.469603  ,  0.18158111,  0.53015707,\n",
              "         -0.05694843,  0.01893788,  0.18446603, -0.48511067, -0.39430958,\n",
              "         -0.29083422,  0.35848462, -0.06376418, -0.0111189 ,  0.18211684,\n",
              "         -2.20252293, -0.46259108,  0.38170034,  0.40510499, -0.22189805,\n",
              "          3.71633238, -0.18335651, -0.53527014,  0.11730887,  0.14037331,\n",
              "          0.02794581,  0.25050281,  0.28833871,  0.34094281, -0.34691147,\n",
              "         -0.01741917,  0.3069745 , -0.38790221,  0.26111525,  0.07765186,\n",
              "         -0.17314379, -0.09735672, -0.15395654,  0.10343843,  0.2319262 ],\n",
              "        [ 0.16029631,  0.47951334,  0.03020639, -0.21635751,  0.60403544,\n",
              "          0.83449377, -0.73565191,  0.59543037, -0.50311562,  0.30966783,\n",
              "         -0.00987475,  0.52757588, -0.81832718,  0.09474956,  1.15526534,\n",
              "          0.06555072, -0.27989566,  0.06775087,  0.09747685, -0.05605146,\n",
              "         -0.26199072,  1.19740614, -0.05439003,  0.85179026,  0.30891193,\n",
              "         -1.77313664, -0.01376789,  0.05481421,  0.55362042, -0.21367494,\n",
              "          1.79275893, -0.040466  , -0.21603078,  0.11902014,  0.36584414,\n",
              "          0.20296745,  0.13089142, -0.02752435,  0.4451022 , -0.61164843,\n",
              "          0.24350677,  0.65288914, -0.26060103,  0.15087918,  0.67055692,\n",
              "         -0.70376329, -0.01294416, -0.92917131,  0.26056266,  0.48954476]]))"
            ]
          },
          "metadata": {
            "tags": []
          },
          "execution_count": 66
        }
      ]
    },
    {
      "cell_type": "markdown",
      "metadata": {
        "id": "eCAT3zVQHQTj",
        "colab_type": "text"
      },
      "source": [
        "참고로 **트랜스포머나 버트같은 딥러닝 모델에서는 태스크(Seq2Seq, 기계독해 등)**에 맞게 신경망이 훈련되면서, 어텐션 값이 지속적으로 태스크에 맞게 변경됩니다."
      ]
    },
    {
      "cell_type": "code",
      "metadata": {
        "id": "wA4BBjWAcEdU",
        "colab_type": "code",
        "outputId": "856cf098-3d9c-4c90-b7fa-e227396da7d9",
        "colab": {
          "base_uri": "https://localhost:8080/",
          "height": 559
        }
      },
      "source": [
        "plot_attention_weights(\"i have a girlfriend\", \"she has a boyfriend\")"
      ],
      "execution_count": 63,
      "outputs": [
        {
          "output_type": "display_data",
          "data": {
            "image/png": "[encoded data removed]",
            "text/plain": [
              "<Figure size 576x576 with 1 Axes>"
            ]
          },
          "metadata": {
            "tags": [],
            "needs_background": "light"
          }
        }
      ]
    },
    {
      "cell_type": "code",
      "metadata": {
        "id": "_8WnaYHxfFFH",
        "colab_type": "code",
        "outputId": "9924e701-f669-4495-fae4-1375da22b044",
        "colab": {
          "base_uri": "https://localhost:8080/",
          "height": 584
        }
      },
      "source": [
        "plot_attention_weights(\"i love her\", \"she dislikes me\")"
      ],
      "execution_count": 64,
      "outputs": [
        {
          "output_type": "display_data",
          "data": {
            "image/png": "[encoded data removed]",
            "text/plain": [
              "<Figure size 576x576 with 1 Axes>"
            ]
          },
          "metadata": {
            "tags": [],
            "needs_background": "light"
          }
        }
      ]
    },
    {
      "cell_type": "code",
      "metadata": {
        "id": "UJuxNzz1htHQ",
        "colab_type": "code",
        "outputId": "49c531c4-56f1-4e2a-8ef9-f7af2970f35c",
        "colab": {
          "base_uri": "https://localhost:8080/",
          "height": 585
        }
      },
      "source": [
        "plot_attention_weights(\"My boss does not like what I study during my work\", \"I need to flatter my boss\")"
      ],
      "execution_count": 65,
      "outputs": [
        {
          "output_type": "display_data",
          "data": {
            "image/png": "[encoded data removed]",
            "text/plain": [
              "<Figure size 576x576 with 1 Axes>"
            ]
          },
          "metadata": {
            "tags": [],
            "needs_background": "light"
          }
        }
      ]
    }
  ]
}